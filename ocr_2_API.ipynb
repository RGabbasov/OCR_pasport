{
 "cells": [
  {
   "cell_type": "markdown",
   "id": "7553606c",
   "metadata": {
    "scrolled": true
   },
   "source": [
    "Задача: подобрать API c помощью которых можно провести распознавание, провести распознавание\n",
    "паспортов с указанной ссылки: https://disk.yandex.ru/d/kVdTaY8TuGvBkw"
   ]
  },
  {
   "cell_type": "code",
   "execution_count": 1,
   "id": "ce290a58",
   "metadata": {},
   "outputs": [],
   "source": [
    "import requests\n",
    "import os"
   ]
  },
  {
   "cell_type": "code",
   "execution_count": 2,
   "id": "be1b4257",
   "metadata": {},
   "outputs": [],
   "source": [
    "# Ключ для post - запроса\n",
    "my_api_key = 'K81928543688957'"
   ]
  },
  {
   "cell_type": "code",
   "execution_count": 3,
   "id": "468607cc",
   "metadata": {},
   "outputs": [],
   "source": [
    "# Функция для post - запроса на ocr space\n",
    "def ocr_space_file(filename, overlay=False, api_key=my_api_key, language='rus'):\n",
    "\n",
    "    payload = {'isOverlayRequired': overlay,\n",
    "               'apikey': api_key,\n",
    "               'language': language,\n",
    "               }\n",
    "    with open(filename, 'rb') as f:\n",
    "        r = requests.post('https://api.ocr.space/parse/image',\n",
    "                          files={filename: f},\n",
    "                          data=payload,\n",
    "                          )\n",
    "    return r.content.decode()\n",
    "\n",
    "\n",
    "# Очистка распознанного текста\n",
    "def clean_parsed_text(text):\n",
    "    left_bound = text.find(\"ParsedText\") \n",
    "    right_bound = text.find(\"ErrorMessage\")\n",
    "    return text[left_bound:right_bound].replace('\\\\r\\\\n', ' \\n ')\n",
    "\n",
    "\n",
    "# Собственно функция распознавания\n",
    "def ocr_pasp(img):\n",
    "    text_raw = ocr_space_file(img)\n",
    "    text = clean_parsed_text(text_raw)\n",
    "    return text"
   ]
  },
  {
   "cell_type": "code",
   "execution_count": 4,
   "id": "d54a9e59",
   "metadata": {
    "scrolled": true
   },
   "outputs": [
    {
     "data": {
      "text/plain": [
       "['0.jpeg',\n",
       " '1.jpeg',\n",
       " '2.jpeg',\n",
       " '3.jpeg',\n",
       " '4.png',\n",
       " '5.jpeg',\n",
       " '6.jpeg',\n",
       " '7.jpeg',\n",
       " '8.jpeg',\n",
       " '9.jpeg']"
      ]
     },
     "execution_count": 4,
     "metadata": {},
     "output_type": "execute_result"
    }
   ],
   "source": [
    "docs_path = 'DataForOCR/'\n",
    "docs = os.listdir(docs_path)\n",
    "docs"
   ]
  },
  {
   "cell_type": "code",
   "execution_count": 5,
   "id": "3afb4071",
   "metadata": {},
   "outputs": [],
   "source": [
    "pasp_texts = {}\n",
    "for doc in docs:\n",
    "    pasp_texts[doc] = ocr_pasp(docs_path+docs[0])"
   ]
  },
  {
   "cell_type": "code",
   "execution_count": 6,
   "id": "5660dd04",
   "metadata": {},
   "outputs": [
    {
     "name": "stdout",
     "output_type": "stream",
     "text": [
      "0.jpeg :\n",
      " ParsedText\":\"ГОССИЙСК А Я ф ГД ЕРА ЦИЯ \n",
      " испортно-визовьм ОТДЕЛЕНИЕМ \n",
      " ОВД ПРЕСНЕНСКОГО РАЙОНА \n",
      " увд иО ГОРОДА москвы \n",
      " 772-112 \n",
      " ТРАМП \n",
      " ДОНАЛЬД \n",
      " джон \n",
      " .14„ОБ .194$ \n",
      " гор. куинс \n",
      " ШТАТ нью-йорк_ \n",
      " \",\"\n",
      "1.jpeg :\n",
      " ParsedText\":\"ГОССИЙСК А Я ф ГД ЕРА ЦИЯ \n",
      " испортно-визовьм ОТДЕЛЕНИЕМ \n",
      " ОВД ПРЕСНЕНСКОГО РАЙОНА \n",
      " увд иО ГОРОДА москвы \n",
      " 772-112 \n",
      " ТРАМП \n",
      " ДОНАЛЬД \n",
      " джон \n",
      " .14„ОБ .194$ \n",
      " гор. куинс \n",
      " ШТАТ нью-йорк_ \n",
      " \",\"\n",
      "2.jpeg :\n",
      " ParsedText\":\"ГОССИЙСК А Я ф ГД ЕРА ЦИЯ \n",
      " испортно-визовьм ОТДЕЛЕНИЕМ \n",
      " ОВД ПРЕСНЕНСКОГО РАЙОНА \n",
      " увд иО ГОРОДА москвы \n",
      " 772-112 \n",
      " ТРАМП \n",
      " ДОНАЛЬД \n",
      " джон \n",
      " .14„ОБ .194$ \n",
      " гор. куинс \n",
      " ШТАТ нью-йорк_ \n",
      " \",\"\n",
      "3.jpeg :\n",
      " ParsedText\":\"ГОССИЙСК А Я ф ГД ЕРА ЦИЯ \n",
      " испортно-визовьм ОТДЕЛЕНИЕМ \n",
      " ОВД ПРЕСНЕНСКОГО РАЙОНА \n",
      " увд иО ГОРОДА москвы \n",
      " 772-112 \n",
      " ТРАМП \n",
      " ДОНАЛЬД \n",
      " джон \n",
      " .14„ОБ .194$ \n",
      " гор. куинс \n",
      " ШТАТ нью-йорк_ \n",
      " \",\"\n",
      "4.png :\n",
      " ParsedText\":\"ГОССИЙСК А Я ф ГД ЕРА ЦИЯ \n",
      " испортно-визовьм ОТДЕЛЕНИЕМ \n",
      " ОВД ПРЕСНЕНСКОГО РАЙОНА \n",
      " увд иО ГОРОДА москвы \n",
      " 772-112 \n",
      " ТРАМП \n",
      " ДОНАЛЬД \n",
      " джон \n",
      " .14„ОБ .194$ \n",
      " гор. куинс \n",
      " ШТАТ нью-йорк_ \n",
      " \",\"\n",
      "5.jpeg :\n",
      " ParsedText\":\"ГОССИЙСК А Я ф ГД ЕРА ЦИЯ \n",
      " испортно-визовьм ОТДЕЛЕНИЕМ \n",
      " ОВД ПРЕСНЕНСКОГО РАЙОНА \n",
      " увд иО ГОРОДА москвы \n",
      " 772-112 \n",
      " ТРАМП \n",
      " ДОНАЛЬД \n",
      " джон \n",
      " .14„ОБ .194$ \n",
      " гор. куинс \n",
      " ШТАТ нью-йорк_ \n",
      " \",\"\n",
      "6.jpeg :\n",
      " ParsedText\":\"ГОССИЙСК А Я ф ГД ЕРА ЦИЯ \n",
      " испортно-визовьм ОТДЕЛЕНИЕМ \n",
      " ОВД ПРЕСНЕНСКОГО РАЙОНА \n",
      " увд иО ГОРОДА москвы \n",
      " 772-112 \n",
      " ТРАМП \n",
      " ДОНАЛЬД \n",
      " джон \n",
      " .14„ОБ .194$ \n",
      " гор. куинс \n",
      " ШТАТ нью-йорк_ \n",
      " \",\"\n",
      "7.jpeg :\n",
      " ParsedText\":\"ГОССИЙСК А Я ф ГД ЕРА ЦИЯ \n",
      " испортно-визовьм ОТДЕЛЕНИЕМ \n",
      " ОВД ПРЕСНЕНСКОГО РАЙОНА \n",
      " увд иО ГОРОДА москвы \n",
      " 772-112 \n",
      " ТРАМП \n",
      " ДОНАЛЬД \n",
      " джон \n",
      " .14„ОБ .194$ \n",
      " гор. куинс \n",
      " ШТАТ нью-йорк_ \n",
      " \",\"\n",
      "8.jpeg :\n",
      " ParsedText\":\"ГОССИЙСК А Я ф ГД ЕРА ЦИЯ \n",
      " испортно-визовьм ОТДЕЛЕНИЕМ \n",
      " ОВД ПРЕСНЕНСКОГО РАЙОНА \n",
      " увд иО ГОРОДА москвы \n",
      " 772-112 \n",
      " ТРАМП \n",
      " ДОНАЛЬД \n",
      " джон \n",
      " .14„ОБ .194$ \n",
      " гор. куинс \n",
      " ШТАТ нью-йорк_ \n",
      " \",\"\n",
      "9.jpeg :\n",
      " ParsedText\":\"ГОССИЙСК А Я ф ГД ЕРА ЦИЯ \n",
      " испортно-визовьм ОТДЕЛЕНИЕМ \n",
      " ОВД ПРЕСНЕНСКОГО РАЙОНА \n",
      " увд иО ГОРОДА москвы \n",
      " 772-112 \n",
      " ТРАМП \n",
      " ДОНАЛЬД \n",
      " джон \n",
      " .14„ОБ .194$ \n",
      " гор. куинс \n",
      " ШТАТ нью-йорк_ \n",
      " \",\"\n"
     ]
    }
   ],
   "source": [
    "# Имеем следующий распознааный текст со сканов\n",
    "for doc,text in pasp_texts.items():\n",
    "    print(f'{doc} :\\n {text}')"
   ]
  },
  {
   "cell_type": "code",
   "execution_count": null,
   "id": "aed64421",
   "metadata": {},
   "outputs": [],
   "source": []
  }
 ],
 "metadata": {
  "kernelspec": {
   "display_name": "Python 3 (ipykernel)",
   "language": "python",
   "name": "python3"
  },
  "language_info": {
   "codemirror_mode": {
    "name": "ipython",
    "version": 3
   },
   "file_extension": ".py",
   "mimetype": "text/x-python",
   "name": "python",
   "nbconvert_exporter": "python",
   "pygments_lexer": "ipython3",
   "version": "3.9.7"
  }
 },
 "nbformat": 4,
 "nbformat_minor": 5
}
