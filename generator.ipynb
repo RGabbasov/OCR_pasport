{
 "cells": [
  {
   "cell_type": "code",
   "execution_count": 7,
   "id": "a9c29f4a",
   "metadata": {},
   "outputs": [],
   "source": [
    "import unicodedata\n",
    "import collections\n",
    "import random\n",
    "import warnings\n",
    "\n",
    "from matplotlib.pyplot import imshow\n",
    "from PIL import Image, ImageDraw, ImageFont\n",
    "from pathlib import Path\n"
   ]
  },
  {
   "cell_type": "code",
   "execution_count": 8,
   "id": "12624fb3",
   "metadata": {},
   "outputs": [],
   "source": [
    "#warnings.filterwarnings(\"ignore\", \"FutureWarning\")\n",
    "get_ipython().run_line_magic('matplotlib', 'inline')\n"
   ]
  },
  {
   "cell_type": "code",
   "execution_count": 9,
   "id": "ae449bda",
   "metadata": {},
   "outputs": [],
   "source": [
    "# Глобальные константы\n",
    "# Символы\n",
    "RUS_LETTERS = 'АаБбВвГгДдЕеЁёЖжЗзИиЙйКкЛлМмНнОоПпРрСсТтУуФфХхЦцЧчШшЩщЪъЫыЬьЭэЮюЯя'\n",
    "NUMBERS = '0123456789'\n",
    "PUNCTUATION_MARKS = ' .,?:;—!<>-«»()[]*\"'\n",
    "ALL_SYMBOLS = RUS_LETTERS + NUMBERS + PUNCTUATION_MARKS\n",
    "\n",
    "# Пути\n",
    "raw_data_path ='raw_data/russian_news_corpus/'\n",
    "source_file = 'russian_news.txt'\n",
    "save_label_path = 'raw_data/synth_dataset/'\n",
    "save_img_path = 'raw_data/synth_dataset/images/'\n",
    "\n",
    "# Шрифты\n",
    "font = ImageFont.truetype('raw_data/fonts/Roboto-Regular.ttf', 20)\n",
    "\n",
    "# Ширина генерируемых картинок\n",
    "width =360\n",
    "# Количество генерируемых картинок в датасете\n",
    "img_amount = 20000\n",
    "\n"
   ]
  },
  {
   "cell_type": "code",
   "execution_count": 10,
   "id": "d650f244",
   "metadata": {},
   "outputs": [],
   "source": [
    "# Максимальное кол-ва символов, вмещающихся в заданную ширину картинки \n",
    "def get_max_i(width,font,symbols=ALL_SYMBOLS)-> int:\n",
    "    max_w_char = 0\n",
    "    for char in symbols:\n",
    "        if font.getlength(char) > max_w_char:\n",
    "            max_w_char = font.getlength(char)\n",
    "    max_i = round(width/max_w_char)-1\n",
    "    return max_i\n",
    "\n",
    "\n",
    "# (Минимально) допустимая высота картинки \n",
    "def get_height(font,symbols=ALL_SYMBOLS) -> int:\n",
    "    return font.getbbox(symbols)[3]+6\n",
    "\n",
    "\n",
    "# Проверка на распознаваемость:\n",
    "# Критерии:\n",
    "# 1: все символы из набора symbols\n",
    "# 2: есть хотя бы одна буква/цифра\n",
    "# 3: есть хотя бы два непробельных символа\n",
    "def is_applicable(text,symbols=ALL_SYMBOLS) -> bool:\n",
    "    cond1 = all(element in symbols for element in text)\n",
    "    cond2 = any(element in (RUS_LETTERS+NUMBERS) for element in text)\n",
    "    cond3 = len(text) > 1\n",
    "    return cond1 and cond2"
   ]
  },
  {
   "cell_type": "code",
   "execution_count": 11,
   "id": "120e149e",
   "metadata": {},
   "outputs": [
    {
     "name": "stdout",
     "output_type": "stream",
     "text": [
      "18 32\n"
     ]
    }
   ],
   "source": [
    "max_i = get_max_i(width,font,ALL_SYMBOLS)\n",
    "height = get_height(font,ALL_SYMBOLS)\n",
    "print(max_i, height)"
   ]
  },
  {
   "cell_type": "code",
   "execution_count": 13,
   "id": "7f26ad85",
   "metadata": {},
   "outputs": [],
   "source": [
    "labels = [] \n",
    "i = 0\n",
    "filler = ' '*max_i\n",
    "with open(raw_data_path+source_file, 'r', encoding=\"utf-8\") as f:\n",
    "    while i< img_amount :\n",
    "        line = f.read(max_i)\n",
    "        # Возьмем целые слова из прочитанной строки\n",
    "        first_space = line.find(' ')\n",
    "        last_space = line.rfind(' ')\n",
    "        line = line[first_space:last_space]\n",
    "        \n",
    "        # Проверка на отсутствие сторонних символов\n",
    "        if is_applicable(line):\n",
    "            i+=1\n",
    "            line = (line + filler)[0:max_i]\n",
    "            w = random.randint(200, 255)\n",
    "            b = random.randint(0, 100)\n",
    "        \n",
    "            line = line.upper()\n",
    "            # созадим картинку: символы в строке в один ряд\n",
    "            img = Image.new('L', (width, height), color = (w, ))\n",
    "            drawing = ImageDraw.Draw(img)\n",
    "            drawing.text((5, 5), line, font=font, fill=(b,))\n",
    "            img_name = f'{i}_pasp.png'\n",
    "            img.save(save_img_path + img_name)\n",
    "            labels.append(img_name + ' : '+ line)\n",
    "            \n",
    "#print (labels [0])\n",
    "            \n",
    "with open(save_label_path + 'labels.txt', 'w') as f:\n",
    "    for element in labels:\n",
    "        f.write(element)\n",
    "        f.write('\\n')"
   ]
  },
  {
   "cell_type": "code",
   "execution_count": null,
   "id": "2df17f0c",
   "metadata": {},
   "outputs": [],
   "source": []
  }
 ],
 "metadata": {
  "kernelspec": {
   "display_name": "Python 3 (ipykernel)",
   "language": "python",
   "name": "python3"
  },
  "language_info": {
   "codemirror_mode": {
    "name": "ipython",
    "version": 3
   },
   "file_extension": ".py",
   "mimetype": "text/x-python",
   "name": "python",
   "nbconvert_exporter": "python",
   "pygments_lexer": "ipython3",
   "version": "3.9.7"
  }
 },
 "nbformat": 4,
 "nbformat_minor": 5
}
