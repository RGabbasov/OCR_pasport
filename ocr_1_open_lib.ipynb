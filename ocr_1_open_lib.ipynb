{
 "cells": [
  {
   "cell_type": "markdown",
   "id": "fc6a10e4",
   "metadata": {},
   "source": [
    "Задача: подобрать открытые библиотеки по распознаванию документов и провести распознавания паспортов с указанной ссылки:\n",
    "https://disk.yandex.ru/d/kVdTaY8TuGvBkw\n",
    "\n",
    "через pytesseract"
   ]
  },
  {
   "cell_type": "code",
   "execution_count": 4,
   "id": "c55dfd10",
   "metadata": {},
   "outputs": [
    {
     "name": "stdout",
     "output_type": "stream",
     "text": [
      "Collecting matplotlib\n",
      "  Using cached matplotlib-3.6.3-cp39-cp39-win_amd64.whl (7.2 MB)\n",
      "Collecting cycler>=0.10\n",
      "  Using cached cycler-0.11.0-py3-none-any.whl (6.4 kB)\n",
      "Collecting kiwisolver>=1.0.1\n",
      "  Using cached kiwisolver-1.4.4-cp39-cp39-win_amd64.whl (55 kB)\n",
      "Collecting pyparsing>=2.2.1\n",
      "  Using cached pyparsing-3.0.9-py3-none-any.whl (98 kB)\n",
      "Collecting contourpy>=1.0.1\n",
      "  Using cached contourpy-1.0.7-cp39-cp39-win_amd64.whl (160 kB)\n",
      "Collecting fonttools>=4.22.0\n",
      "  Using cached fonttools-4.38.0-py3-none-any.whl (965 kB)\n",
      "Requirement already satisfied: numpy>=1.19 in c:\\users\\gp62\\anaconda3\\envs\\ocr_pasport\\lib\\site-packages (from matplotlib) (1.24.1)\n",
      "Requirement already satisfied: python-dateutil>=2.7 in c:\\users\\gp62\\anaconda3\\envs\\ocr_pasport\\lib\\site-packages (from matplotlib) (2.8.2)\n",
      "Requirement already satisfied: packaging>=20.0 in c:\\users\\gp62\\anaconda3\\envs\\ocr_pasport\\lib\\site-packages (from matplotlib) (22.0)\n",
      "Requirement already satisfied: pillow>=6.2.0 in c:\\users\\gp62\\anaconda3\\envs\\ocr_pasport\\lib\\site-packages (from matplotlib) (9.4.0)\n",
      "Requirement already satisfied: six>=1.5 in c:\\users\\gp62\\anaconda3\\envs\\ocr_pasport\\lib\\site-packages (from python-dateutil>=2.7->matplotlib) (1.16.0)\n",
      "Installing collected packages: pyparsing, kiwisolver, fonttools, cycler, contourpy, matplotlib\n",
      "Successfully installed contourpy-1.0.7 cycler-0.11.0 fonttools-4.38.0 kiwisolver-1.4.4 matplotlib-3.6.3 pyparsing-3.0.9\n"
     ]
    }
   ],
   "source": [
    "!pip install matplotlib"
   ]
  },
  {
   "cell_type": "code",
   "execution_count": 2,
   "id": "62475271",
   "metadata": {},
   "outputs": [
    {
     "name": "stdout",
     "output_type": "stream",
     "text": [
      "Collecting opencv-python\n",
      "  Using cached opencv_python-4.7.0.68-cp37-abi3-win_amd64.whl (38.2 MB)\n",
      "Collecting numpy>=1.17.3\n",
      "  Using cached numpy-1.24.1-cp39-cp39-win_amd64.whl (14.9 MB)\n",
      "Installing collected packages: numpy, opencv-python\n",
      "Successfully installed numpy-1.24.1 opencv-python-4.7.0.68\n",
      "Collecting pytesseract\n",
      "  Using cached pytesseract-0.3.10-py3-none-any.whl (14 kB)\n",
      "Requirement already satisfied: packaging>=21.3 in c:\\users\\gp62\\anaconda3\\envs\\ocr_pasport\\lib\\site-packages (from pytesseract) (22.0)\n",
      "Collecting Pillow>=8.0.0\n",
      "  Using cached Pillow-9.4.0-cp39-cp39-win_amd64.whl (2.5 MB)\n",
      "Installing collected packages: Pillow, pytesseract\n",
      "Successfully installed Pillow-9.4.0 pytesseract-0.3.10\n",
      "Collecting easyocr\n",
      "  Using cached easyocr-1.6.2-py3-none-any.whl (2.9 MB)\n",
      "Collecting opencv-python-headless<=4.5.4.60\n",
      "  Using cached opencv_python_headless-4.5.4.60-cp39-cp39-win_amd64.whl (35.0 MB)\n",
      "Collecting python-bidi\n",
      "  Using cached python_bidi-0.4.2-py2.py3-none-any.whl (30 kB)\n",
      "Collecting scipy\n",
      "  Using cached scipy-1.10.0-cp39-cp39-win_amd64.whl (42.5 MB)\n",
      "Collecting torchvision>=0.5\n",
      "  Using cached torchvision-0.14.1-cp39-cp39-win_amd64.whl (1.1 MB)\n",
      "Requirement already satisfied: Pillow in c:\\users\\gp62\\anaconda3\\envs\\ocr_pasport\\lib\\site-packages (from easyocr) (9.4.0)\n",
      "Collecting scikit-image\n",
      "  Using cached scikit_image-0.19.3-cp39-cp39-win_amd64.whl (12.1 MB)\n",
      "Requirement already satisfied: PyYAML in c:\\users\\gp62\\anaconda3\\envs\\ocr_pasport\\lib\\site-packages (from easyocr) (6.0)\n",
      "Collecting ninja\n",
      "  Using cached ninja-1.11.1-py2.py3-none-win_amd64.whl (313 kB)\n",
      "Collecting Shapely\n",
      "  Using cached shapely-2.0.1-cp39-cp39-win_amd64.whl (1.4 MB)\n",
      "Collecting pyclipper\n",
      "  Using cached pyclipper-1.3.0.post4-cp39-cp39-win_amd64.whl (95 kB)\n",
      "Collecting torch\n",
      "  Using cached torch-1.13.1-cp39-cp39-win_amd64.whl (162.5 MB)\n",
      "Requirement already satisfied: numpy in c:\\users\\gp62\\anaconda3\\envs\\ocr_pasport\\lib\\site-packages (from easyocr) (1.24.1)\n",
      "Requirement already satisfied: typing-extensions in c:\\users\\gp62\\anaconda3\\envs\\ocr_pasport\\lib\\site-packages (from torchvision>=0.5->easyocr) (4.4.0)\n",
      "Requirement already satisfied: requests in c:\\users\\gp62\\anaconda3\\envs\\ocr_pasport\\lib\\site-packages (from torchvision>=0.5->easyocr) (2.28.1)\n",
      "Requirement already satisfied: six in c:\\users\\gp62\\anaconda3\\envs\\ocr_pasport\\lib\\site-packages (from python-bidi->easyocr) (1.16.0)\n",
      "Collecting networkx>=2.2\n",
      "  Using cached networkx-3.0-py3-none-any.whl (2.0 MB)\n",
      "Collecting tifffile>=2019.7.26\n",
      "  Using cached tifffile-2023.1.23.1-py3-none-any.whl (214 kB)\n",
      "Collecting PyWavelets>=1.1.1\n",
      "  Using cached PyWavelets-1.4.1-cp39-cp39-win_amd64.whl (4.2 MB)\n",
      "Requirement already satisfied: packaging>=20.0 in c:\\users\\gp62\\anaconda3\\envs\\ocr_pasport\\lib\\site-packages (from scikit-image->easyocr) (22.0)\n",
      "Collecting imageio>=2.4.1\n",
      "  Using cached imageio-2.25.0-py3-none-any.whl (3.4 MB)\n",
      "Requirement already satisfied: idna<4,>=2.5 in c:\\users\\gp62\\anaconda3\\envs\\ocr_pasport\\lib\\site-packages (from requests->torchvision>=0.5->easyocr) (3.4)\n",
      "Requirement already satisfied: certifi>=2017.4.17 in c:\\users\\gp62\\anaconda3\\envs\\ocr_pasport\\lib\\site-packages (from requests->torchvision>=0.5->easyocr) (2022.12.7)\n",
      "Requirement already satisfied: charset-normalizer<3,>=2 in c:\\users\\gp62\\anaconda3\\envs\\ocr_pasport\\lib\\site-packages (from requests->torchvision>=0.5->easyocr) (2.0.4)\n",
      "Requirement already satisfied: urllib3<1.27,>=1.21.1 in c:\\users\\gp62\\anaconda3\\envs\\ocr_pasport\\lib\\site-packages (from requests->torchvision>=0.5->easyocr) (1.26.14)\n",
      "Installing collected packages: pyclipper, ninja, torch, tifffile, Shapely, scipy, PyWavelets, python-bidi, opencv-python-headless, networkx, imageio, torchvision, scikit-image, easyocr\n",
      "Successfully installed PyWavelets-1.4.1 Shapely-2.0.1 easyocr-1.6.2 imageio-2.25.0 networkx-3.0 ninja-1.11.1 opencv-python-headless-4.5.4.60 pyclipper-1.3.0.post4 python-bidi-0.4.2 scikit-image-0.19.3 scipy-1.10.0 tifffile-2023.1.23.1 torch-1.13.1 torchvision-0.14.1\n"
     ]
    }
   ],
   "source": [
    "!pip install opencv-python\n",
    "!pip install pytesseract\n",
    "!pip install easyocr"
   ]
  },
  {
   "cell_type": "code",
   "execution_count": 5,
   "id": "3cf07307",
   "metadata": {},
   "outputs": [],
   "source": [
    "from PIL import Image\n",
    "from pytesseract import pytesseract\n",
    "from skimage import io\n",
    "import matplotlib.pyplot as plt\n",
    "import cv2\n",
    "import easyocr\n",
    "import os"
   ]
  },
  {
   "cell_type": "code",
   "execution_count": 6,
   "id": "e0f35a6b",
   "metadata": {},
   "outputs": [],
   "source": [
    "# Настройка tesseract \n",
    "path_to_tesseract = r\"C:\\Program Files\\Tesseract-OCR\\tesseract.exe\"\n",
    "pytesseract.tesseract_cmd = path_to_tesseract\n",
    "tessdata_dir_config = r'--tessdata-dir \"C:\\Program Files\\Tesseract-OCR\\tessdata\"'"
   ]
  },
  {
   "cell_type": "code",
   "execution_count": 7,
   "id": "f22d35cd",
   "metadata": {
    "scrolled": true
   },
   "outputs": [
    {
     "data": {
      "text/plain": [
       "['0.jpeg',\n",
       " '1.jpeg',\n",
       " '2.jpeg',\n",
       " '3.jpeg',\n",
       " '4.png',\n",
       " '5.jpeg',\n",
       " '6.jpeg',\n",
       " '7.jpeg',\n",
       " '8.jpeg',\n",
       " '9.jpeg']"
      ]
     },
     "execution_count": 7,
     "metadata": {},
     "output_type": "execute_result"
    }
   ],
   "source": [
    "# Данные предварительно скачаны в директорию DataForOCR\n",
    "docs_path = 'DataForOCR/'\n",
    "docs = os.listdir(docs_path)\n",
    "docs"
   ]
  },
  {
   "cell_type": "code",
   "execution_count": 8,
   "id": "8b7ff05e",
   "metadata": {},
   "outputs": [
    {
     "data": {
      "text/plain": [
       "'DataForOCR/0.jpeg'"
      ]
     },
     "execution_count": 8,
     "metadata": {},
     "output_type": "execute_result"
    }
   ],
   "source": [
    "pp = docs_path + docs[0]\n",
    "pp"
   ]
  },
  {
   "cell_type": "code",
   "execution_count": 9,
   "id": "dae21046",
   "metadata": {
    "scrolled": true
   },
   "outputs": [
    {
     "name": "stderr",
     "output_type": "stream",
     "text": [
      "CUDA not available - defaulting to CPU. Note: This module is much faster with a GPU.\n"
     ]
    }
   ],
   "source": [
    "reader = easyocr.Reader(['ru'])"
   ]
  },
  {
   "cell_type": "code",
   "execution_count": 10,
   "id": "3ab76170",
   "metadata": {},
   "outputs": [],
   "source": [
    "result = reader.readtext(pp)\n"
   ]
  },
  {
   "cell_type": "code",
   "execution_count": 11,
   "id": "ebd9ed04",
   "metadata": {},
   "outputs": [
    {
     "data": {
      "text/plain": [
       "<matplotlib.image.AxesImage at 0x1fb20824760>"
      ]
     },
     "execution_count": 11,
     "metadata": {},
     "output_type": "execute_result"
    },
    {
     "data": {
      "image/png": "[encoded data removed]",
      "text/plain": [
       "<Figure size 640x480 with 1 Axes>"
      ]
     },
     "metadata": {},
     "output_type": "display_data"
    }
   ],
   "source": [
    "image = cv2.imread(pp)\n",
    "ii = image[31:45, 101 :225]\n",
    "plt.imshow(ii, cmap='gray')"
   ]
  },
  {
   "cell_type": "code",
   "execution_count": 14,
   "id": "9e9afb47",
   "metadata": {},
   "outputs": [
    {
     "data": {
      "text/plain": [
       "[[101, 31], [225, 31], [225, 45], [101, 45]]"
      ]
     },
     "execution_count": 14,
     "metadata": {},
     "output_type": "execute_result"
    }
   ],
   "source": [
    "result[0][0]"
   ]
  },
  {
   "cell_type": "code",
   "execution_count": 5,
   "id": "53bd2bb3",
   "metadata": {},
   "outputs": [],
   "source": [
    "# Создадим функцию для распознавания\n",
    "def ocr_pytesseract(img):\n",
    "    image = Image.open(img)\n",
    "    text = pytesseract.image_to_string(image, lang= 'rus', config=tessdata_dir_config)\n",
    "    return text"
   ]
  },
  {
   "cell_type": "code",
   "execution_count": null,
   "id": "b35a297b",
   "metadata": {},
   "outputs": [],
   "source": [
    "pytesseract.image_to_string(image, lang= 'rus')"
   ]
  },
  {
   "cell_type": "code",
   "execution_count": 6,
   "id": "9fc7ed78",
   "metadata": {
    "scrolled": false
   },
   "outputs": [],
   "source": [
    "# Распознавание текста\n",
    "pasp_texts = {}\n",
    "for doc in docs:\n",
    "    pasp_texts[doc] = ocr_pytesseract(docs_path+doc)"
   ]
  },
  {
   "cell_type": "code",
   "execution_count": 3,
   "id": "ba505676",
   "metadata": {},
   "outputs": [
    {
     "ename": "NameError",
     "evalue": "name 'pasp_texts' is not defined",
     "output_type": "error",
     "traceback": [
      "\u001b[1;31m---------------------------------------------------------------------------\u001b[0m",
      "\u001b[1;31mNameError\u001b[0m                                 Traceback (most recent call last)",
      "\u001b[1;32m~\\AppData\\Local\\Temp/ipykernel_12684/2158500039.py\u001b[0m in \u001b[0;36m<module>\u001b[1;34m\u001b[0m\n\u001b[0;32m      1\u001b[0m \u001b[1;31m# В результате имеем следующий распознанный текст:\u001b[0m\u001b[1;33m\u001b[0m\u001b[1;33m\u001b[0m\u001b[0m\n\u001b[1;32m----> 2\u001b[1;33m \u001b[1;32mfor\u001b[0m \u001b[0mdoc\u001b[0m\u001b[1;33m,\u001b[0m\u001b[0mtext\u001b[0m \u001b[1;32min\u001b[0m \u001b[0mpasp_texts\u001b[0m\u001b[1;33m.\u001b[0m\u001b[0mitems\u001b[0m\u001b[1;33m(\u001b[0m\u001b[1;33m)\u001b[0m\u001b[1;33m:\u001b[0m\u001b[1;33m\u001b[0m\u001b[1;33m\u001b[0m\u001b[0m\n\u001b[0m\u001b[0;32m      3\u001b[0m     \u001b[0mprint\u001b[0m\u001b[1;33m(\u001b[0m\u001b[1;34mf'{doc} : \\n{text}'\u001b[0m\u001b[1;33m)\u001b[0m\u001b[1;33m\u001b[0m\u001b[1;33m\u001b[0m\u001b[0m\n",
      "\u001b[1;31mNameError\u001b[0m: name 'pasp_texts' is not defined"
     ]
    }
   ],
   "source": [
    "# В результате имеем следующий распознанный текст:\n",
    "for doc,text in pasp_texts.items():\n",
    "    print(f'{doc} : \\n{text}')"
   ]
  },
  {
   "cell_type": "code",
   "execution_count": null,
   "id": "1ee523f3",
   "metadata": {},
   "outputs": [],
   "source": []
  }
 ],
 "metadata": {
  "kernelspec": {
   "display_name": "Python 3 (ipykernel)",
   "language": "python",
   "name": "python3"
  },
  "language_info": {
   "codemirror_mode": {
    "name": "ipython",
    "version": 3
   },
   "file_extension": ".py",
   "mimetype": "text/x-python",
   "name": "python",
   "nbconvert_exporter": "python",
   "pygments_lexer": "ipython3",
   "version": "3.9.16"
  }
 },
 "nbformat": 4,
 "nbformat_minor": 5
}
