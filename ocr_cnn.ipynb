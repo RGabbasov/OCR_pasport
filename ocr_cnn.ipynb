{
 "cells": [
  {
   "cell_type": "code",
   "execution_count": 1,
   "id": "586b32ee",
   "metadata": {},
   "outputs": [],
   "source": [
    "import os\n",
    "import os.path\n",
    "import time\n",
    "\n",
    "import numpy as np\n",
    "from skimage import io\n",
    "import matplotlib as mpl\n",
    "import matplotlib.pyplot as plt\n",
    "%matplotlib inline\n",
    "\n",
    "import torch\n",
    "\n",
    "import torch.nn as nn\n",
    "import torch.nn.functional as F\n",
    "import torch.optim as optim\n",
    "from torch.utils.data import Dataset, DataLoader\n",
    "from torch.utils.data.sampler import SubsetRandomSampler\n",
    "from torch.nn.utils.rnn import pack_padded_sequence\n",
    "#from torchvision import transform\n",
    "\n",
    "import editdistance\n",
    "import IPython"
   ]
  },
  {
   "cell_type": "markdown",
   "id": "e12c4833",
   "metadata": {},
   "source": [
    "# 1. Globals"
   ]
  },
  {
   "cell_type": "code",
   "execution_count": 3,
   "id": "2c2d95f0",
   "metadata": {},
   "outputs": [],
   "source": [
    "\n",
    "# Symbol_set : only capitals\n",
    "#symbol_set = ' .,?:;—!<>-«»()[]*\"АБВГДЕЁЖЗИЙКЛМНОПРСТУФХЦЧШЩЪЫЬЭЮЯ0123456789'\n",
    "\n",
    "# Symbol_set : both upper and lower case letters\n",
    "symbol_set = ' .,?:;—!<>-«»()[]*\"АаБбВвГгДдЕеЁёЖжЗзИиЙйКкЛлМмНнОоПпРрСсТтУуФфХхЦцЧчШшЩщЪъЫыЬьЭэЮюЯя0123456789'\n",
    "\n",
    "# code for blank character\n",
    "space_code = symbol_set.index(' ')\n",
    "\n",
    "# data paths\n",
    "raw_data_path ='raw_data/russian_news_corpus/'\n",
    "source_file = 'russian_news.txt'\n",
    "save_label_path = 'raw_data/synth_dataset/labels.txt'\n",
    "save_img_path = 'raw_data/synth_dataset/images/'\n",
    "\n",
    "# image_parameters\n",
    "width = 360\n",
    "height = 32\n",
    "\n",
    "# maximum amount of characters on image\n",
    "max_i = 18\n",
    "\n",
    "# model_parameters\n",
    "n_epochs = 12\n",
    "expected_accuracy = 0.7\n",
    "\n",
    "# parameter for recognition blank space betwten words.\n",
    "# higher value -> lower blank_space sensitivity\n",
    "letter_dist = 9\n",
    "\n",
    "# parameter for recognition doulbled letters.\n",
    "# higher value -> lower Dl sensitivity\n",
    "double_sign = 5\n",
    "\n",
    "# if true, incorrect spaces will not affect accuracy\n",
    "# only chracter recognition is impotant\n",
    "ignore_spaces = True"
   ]
  },
  {
   "cell_type": "code",
   "execution_count": 4,
   "id": "7f2405d2",
   "metadata": {
    "scrolled": true
   },
   "outputs": [
    {
     "name": "stdout",
     "output_type": "stream",
     "text": [
      "Tue Jan 24 15:18:57 2023       \n",
      "+-----------------------------------------------------------------------------+\n",
      "| NVIDIA-SMI 516.59       Driver Version: 516.59       CUDA Version: 11.7     |\n",
      "|-------------------------------+----------------------+----------------------+\n",
      "| GPU  Name            TCC/WDDM | Bus-Id        Disp.A | Volatile Uncorr. ECC |\n",
      "| Fan  Temp  Perf  Pwr:Usage/Cap|         Memory-Usage | GPU-Util  Compute M. |\n",
      "|                               |                      |               MIG M. |\n",
      "|===============================+======================+======================|\n",
      "|   0  NVIDIA GeForce ... WDDM  | 00000000:01:00.0 Off |                  N/A |\n",
      "| N/A    0C    P8    N/A /  N/A |      0MiB /  2048MiB |      0%      Default |\n",
      "|                               |                      |                  N/A |\n",
      "+-------------------------------+----------------------+----------------------+\n",
      "                                                                               \n",
      "+-----------------------------------------------------------------------------+\n",
      "| Processes:                                                                  |\n",
      "|  GPU   GI   CI        PID   Type   Process name                  GPU Memory |\n",
      "|        ID   ID                                                   Usage      |\n",
      "|=============================================================================|\n",
      "+-----------------------------------------------------------------------------+\n"
     ]
    }
   ],
   "source": [
    "device = torch.device('cuda:0' if torch.cuda.is_available() else 'cpu')\n",
    "!nvidia-smi"
   ]
  },
  {
   "cell_type": "markdown",
   "id": "9751bc62",
   "metadata": {},
   "source": [
    "# 2. Functions"
   ]
  },
  {
   "cell_type": "code",
   "execution_count": 5,
   "id": "a4918b98",
   "metadata": {},
   "outputs": [],
   "source": [
    "# text <-> code functions\n",
    "def text_to_numbers(text: str) -> np.array:\n",
    "    return np.array([symbol_set.index(c) for c in text], dtype=np.int64)\n",
    "\n",
    "def numbers_to_text(arr) -> str:\n",
    "    return ''.join([symbol_set[code] for code in arr])\n",
    "\n",
    "\n",
    "# clear and decode sequence of codes to text \n",
    "def decode_sequence(seq :np.array)-> str:\n",
    "    out = []\n",
    "    space_count = 0\n",
    "    dl_count = 0      \n",
    "    current_code = None\n",
    "    letter_dist = 9\n",
    "    \n",
    "    for _, v in enumerate(seq):\n",
    "        \n",
    "        # if a sequence of spaces has length letter_dist or more, \n",
    "        #recognize it as a blank space\n",
    "        # otherwise - ignore\n",
    "        if v == space_code:\n",
    "            space_count+=1\n",
    "            current_code = None\n",
    "            if space_count == letter_dist:\n",
    "                space_count = 0\n",
    "                out.append(space_code)\n",
    "            continue\n",
    "        \n",
    "        # when detecting long enough sequence of the same codes (except blank), \n",
    "        # recognize it as two adjecent double letters \n",
    "        if v == current_code:            \n",
    "            dl_count +=1\n",
    "            if dl_count == double_sign:\n",
    "                dl_count = 0\n",
    "                out.append(current_code)\n",
    "            continue\n",
    "\n",
    "        current_code = v            \n",
    "        out.append(v)\n",
    "                    \n",
    "    return ''.join(numbers_to_text(out))\n",
    "\n",
    "\n",
    "def test_decode_sequence(input, expected):\n",
    "    numbers = text_to_numbers(input)\n",
    "    result = decode_sequence(numbers)\n",
    "    print ('result',result) \n",
    "    print('expected',expected)\n",
    "    print( 'is_coinside', result == expected)\n",
    "\n",
    "    \n",
    "def decode_batch(input):\n",
    "    # input in shape: [Batch, seq, features]\n",
    "    # output: [Batch, seq_text]\n",
    "    maxed = torch.argmax(input.cpu(), -1).numpy()\n",
    "    return [decode_sequence(seq) for seq in maxed]\n",
    "\n",
    "\n",
    "def load_image(path: str) -> torch.tensor:\n",
    "    img = io.imread(path)\n",
    "    img = torch.from_numpy(img).view(1, 32, -1).float()\n",
    "    return img"
   ]
  },
  {
   "cell_type": "code",
   "execution_count": 6,
   "id": "73162f4c",
   "metadata": {},
   "outputs": [],
   "source": [
    "# validation metrics for model\n",
    "def compute_accuracy(net, valid_loader, ignore_spaces = False):\n",
    "    net.eval()\n",
    "    \n",
    "    with torch.no_grad():\n",
    "        total_inaccuracy = 0\n",
    "        num_comparisons = 0\n",
    "        for _, (images, labels) in enumerate(valid_loader):\n",
    "\n",
    "            images = images.to(device)\n",
    "            targets = labels.to(device)\n",
    "            \n",
    "            outputs = net(images)\n",
    "            outs_decoded = decode_batch(outputs)\n",
    "            targets_decoded = [numbers_to_text(t) for t in targets]\n",
    "\n",
    "            for j in range(len(outs_decoded)):\n",
    "                decoded_out, target_out = outs_decoded[j], targets_decoded[j]\n",
    "\n",
    "                # ignore incorrect blank spaces if necessary\n",
    "                if ignore_spaces:   \n",
    "                    decoded_out = decoded_out.replace(' ', '')\n",
    "                    target_out = target_out.replace(' ', '')\n",
    "                    \n",
    "                normalizer = max(len(decoded_out), len(target_out))\n",
    "                if normalizer != 0: # both strings are non-empty\n",
    "                    inaccuracy = editdistance.eval(decoded_out, target_out) / normalizer\n",
    "                    total_inaccuracy += inaccuracy\n",
    "\n",
    "            num_comparisons += len(outs_decoded)\n",
    "            \n",
    "        average_inaccuracy = total_inaccuracy / num_comparisons\n",
    "\n",
    "        return 1 - average_inaccuracy"
   ]
  },
  {
   "cell_type": "markdown",
   "id": "bf6f652b",
   "metadata": {},
   "source": [
    "# 3. Dataset definition"
   ]
  },
  {
   "cell_type": "code",
   "execution_count": 7,
   "id": "df8d77c5",
   "metadata": {},
   "outputs": [],
   "source": [
    "class MyDataset(Dataset):\n",
    "    def __init__(self, save_label_path, save_img_path):\n",
    "        self.save_label_path = save_label_path\n",
    "        self.save_img_path = save_img_path\n",
    "        self.index_map = self.fill_index_map() \n",
    "       \n",
    "    \n",
    "    # create map in format {index : (file_name,text_label)}    \n",
    "    def fill_index_map(self):\n",
    "        index_map = {}\n",
    "        with open(self.save_label_path,'r') as f:\n",
    "            for line in f:\n",
    "                l = line.split(' : ')\n",
    "                \n",
    "                label = l[1].rstrip('\\n')\n",
    "                img_file = l[0]\n",
    "                i = int (img_file.split('_')[0])-1\n",
    "                index_map [i] = (img_file,label)\n",
    "\n",
    "        return index_map\n",
    "                \n",
    "    \n",
    "    def __len__(self):\n",
    "        return len(self.index_map)\n",
    "    \n",
    "    \n",
    "    def __getitem__(self, i):\n",
    "        \n",
    "        img = load_image(self.save_img_path + self.index_map[i][0])\n",
    "        text = self.index_map[i][1]\n",
    "        if len(text) < max_i:\n",
    "            text += ' '*(max_i-len(text))\n",
    "        label = text_to_numbers(text)\n",
    "        \n",
    "        return (img, label) "
   ]
  },
  {
   "cell_type": "markdown",
   "id": "41a43eb9",
   "metadata": {},
   "source": [
    "# 4. Model definition"
   ]
  },
  {
   "cell_type": "code",
   "execution_count": 8,
   "id": "4be9ac8b",
   "metadata": {},
   "outputs": [],
   "source": [
    "cnn_out_channels = 128\n",
    "linear_out_channels = len(symbol_set)\n",
    "\n",
    "class MyOCR(nn.Module):\n",
    "    def __init__(self):\n",
    "        super(MyOCR, self).__init__()\n",
    "\n",
    "        self.conv0 = nn.Conv2d(1, 16, kernel_size=(3, 3), stride=(1, 1), padding=(1, 1))\n",
    "        self.conv1 = nn.Conv2d(16, 32, kernel_size=(3, 3), stride=(1, 1), padding=(1, 1))\n",
    "        self.conv2 = nn.Conv2d(32, cnn_out_channels, kernel_size=(3, 3), stride=(1, 1), padding=(1, 1))\n",
    "        \n",
    "        self.pool0 = nn.MaxPool2d(kernel_size=2, stride=None, padding=0, dilation=1, ceil_mode=False)\n",
    "        self.pool1 = nn.MaxPool2d(kernel_size=2, stride=None, padding=0, dilation=1, ceil_mode=False)\n",
    "        self.pool2 = nn.MaxPool2d(kernel_size=(2,1), stride=None, padding=0, dilation=1, ceil_mode=False)\n",
    "        \n",
    "        self.activ = nn.LeakyReLU()\n",
    "        \n",
    "        self.avgpool = nn.AdaptiveAvgPool2d((1, None))\n",
    " \n",
    "        self.lin1 = nn.Linear(cnn_out_channels , linear_out_channels)\n",
    "        self.log_softmax = nn.LogSoftmax(dim=2)\n",
    "        \n",
    "\n",
    "        \n",
    "    def forward(self, x): #[Batch, 1, 32, 360]\n",
    "                                 \n",
    "        x = self.conv0(x) #[Batch, 16, 32, 360]\n",
    "        x = self.pool0(x) #[Batch, 16, 16, 180]\n",
    "        x = self.activ(x)\n",
    "        \n",
    "        x = self.conv1(x) #[Batch, 32, 16, 180]\n",
    "        x = self.pool1(x) #[Batch, 32, 8, 90]\n",
    "        x = self.activ(x) \n",
    "        \n",
    "        x = self.conv2(x) #[Batch, 64, 8, 90]\n",
    "        x = self.pool2(x) #[Batch, 64, 4, 90]\n",
    "        x = self.activ(x)\n",
    "        \n",
    "        x = self.avgpool(x) #[Batch, 64, 1, 90]\n",
    "\n",
    "        x = x.permute(0, 3, 1, 2).view(x.size(0), x.size(3), -1) # [Batch, 90, 64]\n",
    "\n",
    "        x = self.lin1(x) #[Batch, 90, features]\n",
    "        x = self.activ(x)\n",
    "        #x = self.dropout(x)\n",
    "        x = self.log_softmax(x) #[Batch, 90, features_proba]\n",
    "        return x"
   ]
  },
  {
   "cell_type": "markdown",
   "id": "f375dc1c",
   "metadata": {},
   "source": [
    "# 5. Data loading"
   ]
  },
  {
   "cell_type": "code",
   "execution_count": 9,
   "id": "3601e50e",
   "metadata": {},
   "outputs": [
    {
     "name": "stdout",
     "output_type": "stream",
     "text": [
      "Total samples in the dataset: 20000\n",
      "Train samples: 18000 , validation samples: 2000\n"
     ]
    }
   ],
   "source": [
    "dataset = MyDataset(save_label_path, save_img_path)\n",
    "training_ratio = 0.9\n",
    "indices = list(range(len(dataset)))\n",
    "np.random.shuffle(indices)\n",
    "split = int(training_ratio * len(dataset))\n",
    "train_indices, valid_indices = indices[:split], indices[split:]\n",
    "print(\"Total samples in the dataset:\", len(indices))\n",
    "print(\"Train samples:\", len(train_indices), \", validation samples:\", len(valid_indices))\n",
    "train_sampler = SubsetRandomSampler(train_indices)\n",
    "valid_sampler = SubsetRandomSampler(valid_indices)\n",
    "\n",
    "batch_size_tr = 20\n",
    "batch_size_val = 5\n",
    "\n",
    "train_loader = DataLoader(dataset, batch_size=batch_size_tr, num_workers=0, sampler=train_sampler)\n",
    "valid_loader = DataLoader(dataset, batch_size=batch_size_val, num_workers=0, sampler=valid_sampler)"
   ]
  },
  {
   "cell_type": "markdown",
   "id": "da9589f0",
   "metadata": {},
   "source": [
    "# 6. Training"
   ]
  },
  {
   "cell_type": "code",
   "execution_count": 10,
   "id": "699f0ec9",
   "metadata": {},
   "outputs": [],
   "source": [
    "net = MyOCR().to(device)\n",
    "optimizer = torch.optim.SGD(net.parameters(), lr=0.001)\n",
    "#optimizer = torch.optim.Adam(net.parameters(), lr=0.001)\n",
    "#criterion = nn.CTCLoss(blank = space_code,reduction='mean', zero_infinity=True)\n",
    "criterion = nn.CTCLoss(reduction='mean', zero_infinity=True)\n"
   ]
  },
  {
   "cell_type": "code",
   "execution_count": 11,
   "id": "bc545ac0",
   "metadata": {
    "scrolled": false
   },
   "outputs": [
    {
     "data": {
      "image/png": "[encoded data removed]",
      "text/plain": [
       "<Figure size 1440x720 with 2 Axes>"
      ]
     },
     "metadata": {},
     "output_type": "display_data"
    },
    {
     "name": "stdout",
     "output_type": "stream",
     "text": [
      "Loss: -1.686819314956665\n",
      "Accuracy: 0.9579994616494615\n",
      "Epoch: 11\n"
     ]
    }
   ],
   "source": [
    "fig, axes = plt.subplots(1, 2, figsize=(20, 10))\n",
    "axes[0].clear()\n",
    "axes[1].clear()\n",
    "IPython.display.clear_output(wait=True)\n",
    "IPython.display.display(fig)\n",
    "it = 0\n",
    "iterations = []\n",
    "accuracy_axis = []\n",
    "losses_axis = []\n",
    "\n",
    "# minimal amount of images for plotting\n",
    "checkpoint = 2000\n",
    "\n",
    "images_since_save = 0\n",
    "#start_time = time.perf_counter()\n",
    "\n",
    "\n",
    "for epoch in range(n_epochs):\n",
    "    for i, (images, labels) in enumerate(train_loader):\n",
    "        net.train()\n",
    "        net.zero_grad()\n",
    "\n",
    "        images = images.to(device)\n",
    "        targets = labels.to(device)\n",
    " \n",
    "        outputs = net(images)\n",
    "        outputs = outputs.permute(1,0,2)  \n",
    "        \n",
    "        input_lengths = torch.IntTensor(batch_size_tr).fill_(90)\n",
    "        target_lengths = torch.IntTensor([len(t) for t in  targets])\n",
    "        loss = criterion(outputs, targets, input_lengths, target_lengths)\n",
    "        outs_decoded = decode_batch(outputs)\n",
    " \n",
    "        loss.backward()\n",
    "        optimizer.step()\n",
    "        \n",
    "        images_since_save += len(images)\n",
    "\n",
    "\n",
    "        if images_since_save > checkpoint:\n",
    "            it += images_since_save\n",
    "            iterations.append(it)\n",
    "            losses_axis.append(loss.item())\n",
    "            images_since_save = 0\n",
    "\n",
    "            print(\"Computing accuracy...\")\n",
    "            accuracy = compute_accuracy(net, valid_loader, ignore_spaces = ignore_spaces)\n",
    "            accuracy_axis.append(accuracy)\n",
    "            iter_axis = np.array(iterations) // 1000\n",
    "\n",
    "            axes[0].clear()\n",
    "            axes[0].set(title='Training loss',\n",
    "                        xlabel='Images (thousands)',ylabel='CTC loss')\n",
    "            axes[0].set_ylim(ymin=-2, ymax=2)\n",
    "            axes[0].plot(iter_axis, losses_axis, 'b-')\n",
    "\n",
    "\n",
    "            axes[1].clear()\n",
    "            axes[1].set(title='Accuracy',\n",
    "                        xlabel='Images (thousands)', ylabel='Accuracy')\n",
    "            axes[1].set_ylim(ymin=0, ymax=1)\n",
    "            axes[1].plot(iter_axis, accuracy_axis, 'b-')\n",
    "\n",
    "            IPython.display.clear_output(wait=True)\n",
    "            IPython.display.display(fig)\n",
    "            # print(\"Saved state to checkpoint\", fname)\n",
    "            print(\"Loss:\", loss.item())\n",
    "            print(\"Accuracy:\", accuracy)\n",
    "            print(\"Epoch:\", epoch)\n",
    "            plt.pause(0.005)\n",
    "\n"
   ]
  },
  {
   "cell_type": "code",
   "execution_count": 14,
   "id": "fc5fc077",
   "metadata": {},
   "outputs": [
    {
     "name": "stdout",
     "output_type": "stream",
     "text": [
      "Saving the new best result\n"
     ]
    }
   ],
   "source": [
    "if accuracy > expected_accuracy:\n",
    "    print(\"Saving the new best result\")\n",
    "    torch.save(net.state_dict(), './models/best_model.pth')"
   ]
  },
  {
   "cell_type": "markdown",
   "id": "89adcebe",
   "metadata": {},
   "source": [
    "# 7. Validation"
   ]
  },
  {
   "cell_type": "code",
   "execution_count": 13,
   "id": "56230b76",
   "metadata": {},
   "outputs": [],
   "source": [
    "def model_demonsration(net, valid_loader):\n",
    "\n",
    "    (images, labels) = next(iter(valid_loader))\n",
    "    images = images.to(device)\n",
    "    targets = labels.to(device)\n",
    "    outputs = net(images)\n",
    "    outs_decoded = decode_batch(outputs)\n",
    "\n",
    "    for i in range(labels.shape[0]):\n",
    "        y_test = numbers_to_text(targets[i])\n",
    "        y_pred = outs_decoded [i]\n",
    "        \n",
    "        plt.imshow(images[i].squeeze(), cmap='gray')\n",
    "        mpl.rcParams[\"font.size\"] = 12\n",
    "        plt.gcf().text(x=0.1, y=0.1, s=\"Actual: \" + str(y_test))\n",
    "        plt.gcf().text(x=0.1, y=0.2, s=\"Predicted: \" + str(y_pred))\n",
    "        plt.show()\n",
    "        \n",
    "    accuracy1 = compute_accuracy(net, valid_loader, ignore_spaces = True)\n",
    "    accuracy2 = compute_accuracy(net, valid_loader, ignore_spaces = False)\n",
    "    print ('accuracy (ignore spaces)', accuracy1 )\n",
    "    print ('accuracy (count spaces)', accuracy2 )\n",
    "    "
   ]
  },
  {
   "cell_type": "code",
   "execution_count": 14,
   "id": "1a10528d",
   "metadata": {},
   "outputs": [
    {
     "data": {
      "image/png": "[encoded data removed]",
      "text/plain": [
       "<Figure size 432x288 with 1 Axes>"
      ]
     },
     "metadata": {
      "needs_background": "light"
     },
     "output_type": "display_data"
    },
    {
     "data": {
      "image/png": "[encoded data removed]",
      "text/plain": [
       "<Figure size 432x288 with 1 Axes>"
      ]
     },
     "metadata": {
      "needs_background": "light"
     },
     "output_type": "display_data"
    },
    {
     "data": {
      "image/png": "[encoded data removed]",
      "text/plain": [
       "<Figure size 432x288 with 1 Axes>"
      ]
     },
     "metadata": {
      "needs_background": "light"
     },
     "output_type": "display_data"
    },
    {
     "data": {
      "image/png": "[encoded data removed]",
      "text/plain": [
       "<Figure size 432x288 with 1 Axes>"
      ]
     },
     "metadata": {
      "needs_background": "light"
     },
     "output_type": "display_data"
    },
    {
     "data": {
      "image/png": "[encoded data removed]",
      "text/plain": [
       "<Figure size 432x288 with 1 Axes>"
      ]
     },
     "metadata": {
      "needs_background": "light"
     },
     "output_type": "display_data"
    },
    {
     "name": "stdout",
     "output_type": "stream",
     "text": [
      "accuracy (ignore spaces) 0.9578508380508379\n",
      "accuracy (count spaces) 0.70990322017164\n"
     ]
    }
   ],
   "source": [
    "model_demonsration(net, valid_loader)"
   ]
  },
  {
   "cell_type": "code",
   "execution_count": null,
   "id": "293b10a1",
   "metadata": {},
   "outputs": [],
   "source": []
  }
 ],
 "metadata": {
  "kernelspec": {
   "display_name": "Python 3 (ipykernel)",
   "language": "python",
   "name": "python3"
  },
  "language_info": {
   "codemirror_mode": {
    "name": "ipython",
    "version": 3
   },
   "file_extension": ".py",
   "mimetype": "text/x-python",
   "name": "python",
   "nbconvert_exporter": "python",
   "pygments_lexer": "ipython3",
   "version": "3.9.7"
  }
 },
 "nbformat": 4,
 "nbformat_minor": 5
}
