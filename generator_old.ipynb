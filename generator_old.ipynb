{
 "cells": [
  {
   "cell_type": "code",
   "execution_count": 1,
   "id": "a9c29f4a",
   "metadata": {},
   "outputs": [],
   "source": [
    "import unicodedata\n",
    "import collections\n",
    "import random\n",
    "import warnings\n",
    "import cv2\n",
    "import os\n",
    "\n",
    "from matplotlib.pyplot import imshow\n",
    "from PIL import Image, ImageDraw, ImageFont,ImageFilter\n",
    "from pathlib import Path\n",
    "import matplotlib.pyplot as plt"
   ]
  },
  {
   "cell_type": "code",
   "execution_count": 2,
   "id": "12624fb3",
   "metadata": {},
   "outputs": [],
   "source": [
    "#warnings.filterwarnings(\"ignore\", \"FutureWarning\")\n",
    "get_ipython().run_line_magic('matplotlib', 'inline')\n"
   ]
  },
  {
   "cell_type": "code",
   "execution_count": 3,
   "id": "ae449bda",
   "metadata": {},
   "outputs": [],
   "source": [
    "# Глобальные константы\n",
    "# Символы\n",
    "RUS_LETTERS = 'АаБбВвГгДдЕеЁёЖжЗзИиЙйКкЛлМмНнОоПпРрСсТтУуФфХхЦцЧчШшЩщЪъЫыЬьЭэЮюЯя'\n",
    "NUMBERS = '0123456789'\n",
    "PUNCTUATION_MARKS = ' .,?:;—!<>-«»()[]*\"'\n",
    "ALL_SYMBOLS = RUS_LETTERS + NUMBERS + PUNCTUATION_MARKS\n",
    "\n",
    "# Пути\n",
    "raw_data_path ='raw_data/russian_news_corpus/'\n",
    "source_file = 'russian_news.txt'\n",
    "save_label_path = 'raw_data/synth_dataset/'\n",
    "save_img_path = 'raw_data/synth_dataset/images/'\n",
    "fonts_path = 'raw_data/fonts/'\n",
    "\n",
    "# Шрифты\n",
    "font_avg = 20\n",
    "\n",
    "# Ширина генерируемых картинок\n",
    "width =360\n",
    "height = 32\n",
    "\n",
    "max_i = 30\n",
    "\n",
    "# Количество генерируемых картинок в датасете\n",
    "img_amount = 20\n",
    "\n",
    "\n",
    "noise_lvl = 0.8\n",
    "\n",
    "# Флаг для шумного фона картинки\n",
    "noisy_back = True\n",
    "\n",
    "# Флаг для пробельного разделения букв\n",
    "letter_sep  = True"
   ]
  },
  {
   "cell_type": "code",
   "execution_count": 7,
   "id": "d650f244",
   "metadata": {},
   "outputs": [],
   "source": [
    "# Максимальное кол-ва символов, вмещающихся в заданную ширину картинки \n",
    "def get_max_i(width,font,symbols=ALL_SYMBOLS)-> int:\n",
    "    max_w_char = 0\n",
    "    for char in symbols:\n",
    "        if font.getlength(char) > max_w_char:\n",
    "            max_w_char = font.getlength(char)\n",
    "    max_i = round(width/max_w_char)-1\n",
    "    return max_i\n",
    "\n",
    "\n",
    "# (Минимально) допустимая высота картинки \n",
    "def get_height(font,symbols=ALL_SYMBOLS) -> int:\n",
    "    return font.getbbox(symbols)[3]+6\n",
    "\n",
    "\n",
    "# Проверка на распознаваемость:\n",
    "# Критерии:\n",
    "# 1: все символы из набора symbols\n",
    "# 2: есть хотя бы одна буква/цифра\n",
    "# 3: есть хотя бы два непробельных символа\n",
    "def is_applicable(text,symbols=ALL_SYMBOLS) -> bool:\n",
    "    cond1 = all(element in symbols for element in text)\n",
    "    cond2 = any(element in (RUS_LETTERS+NUMBERS) for element in text)\n",
    "    cond3 = len(text) > 1\n",
    "    return cond1 and cond2\n",
    "\n",
    "\n",
    "def fit_to_frame (line , width , font):\n",
    "    margins = 5\n",
    "    l = len(line)\n",
    "    for i in range(l):\n",
    "        text = line[:l-i]\n",
    "        if font.getbbox(text)[2]+margins*2 <= width:\n",
    "            break       \n",
    "    return text\n",
    "\n",
    "\n",
    "def generate_words(line, width, font):\n",
    "    first_space = line.find(' ')\n",
    "    text = line[first_space:]\n",
    "    \n",
    "    text = fit_to_frame (text , width , font)\n",
    "    \n",
    "    last_space = text.rfind(' ')\n",
    "    text = text[:last_space]\n",
    "    return text\n",
    "\n",
    "\n",
    "def generate_sep_letters(line, width, font):\n",
    "    text = ''\n",
    "    for ch in line:\n",
    "        text = text + ch + ' '\n",
    "    text = fit_to_frame (text , width , font)\n",
    "    return text\n",
    "    \n",
    "\n",
    "# Генериует шумный фон: случайно заполняет картинку (зависит от alpha) серыми пикселями \n",
    "def generate_noisy_background(width :int, height : int, alpha : float = 0.5) ->Image:\n",
    "    w= random.randint(200, 255)\n",
    "    im = Image.new('L', (width, height), color = (w, ))\n",
    "    for i in range( round(im.size[0]*im.size[1]*alpha) ):\n",
    "        im.putpixel(\n",
    "        (random.randint(0, im.size[0]-1), random.randint(0, im.size[1]-1)),\n",
    "        (random.randint(0,255))\n",
    "      )\n",
    "    im = im.filter(ImageFilter.BoxBlur(5))\n",
    "    return im\n",
    "\n",
    "\n",
    "def draw_text(img,text,font):\n",
    "    b = random.randint(0, 100)\n",
    "    blur = 2.0*random.random()\n",
    "    drawing = ImageDraw.Draw(img)\n",
    "    drawing.text((5, 5), text, font=font, fill=(b,))\n",
    "    img = img.filter(ImageFilter.BoxBlur(blur))\n",
    "    return img"
   ]
  },
  {
   "cell_type": "code",
   "execution_count": 5,
   "id": "c47d024e",
   "metadata": {},
   "outputs": [],
   "source": [
    "# Создадим список возможных шрифтов\n",
    "ftp = os.listdir(fonts_path)\n",
    "dispersion = 2\n",
    "fonts = []\n",
    "for f in ftp:\n",
    "    for size in range (font_avg-dispersion, font_avg+dispersion+1):\n",
    "        font = ImageFont.truetype(fonts_path+f, size)\n",
    "        fonts.append(font)\n",
    "\n"
   ]
  },
  {
   "cell_type": "code",
   "execution_count": 8,
   "id": "120e149e",
   "metadata": {},
   "outputs": [
    {
     "name": "stdout",
     "output_type": "stream",
     "text": [
      "18 32\n"
     ]
    }
   ],
   "source": [
    "№max_i = get_max_i(width,font,ALL_SYMBOLS)\n",
    "№height = get_height(font,ALL_SYMBOLS)\n",
    "№print(max_i, height)"
   ]
  },
  {
   "cell_type": "code",
   "execution_count": 6,
   "id": "f4b34534",
   "metadata": {},
   "outputs": [],
   "source": [
    "labels = [] \n",
    "i = 0\n",
    "#filler = ' '*max_i\n",
    "\n",
    "\n",
    "with open(raw_data_path+source_file, 'r', encoding=\"utf-8\") as f:\n",
    "    while i < img_amount :\n",
    "        line = f.read(max_i)\n",
    "        \n",
    "        # Проверка на отсутствие сторонних символов\n",
    "        if is_applicable(line):\n",
    "            i+=1\n",
    "            font = random.choice(fonts)\n",
    "            if letter_sep:\n",
    "                text = generate_sep_letters(line, width, font)\n",
    "            else:\n",
    "                text = generate_words(line, width, font)\n",
    "\n",
    "            text = text.upper()\n",
    "            if noisy_back:\n",
    "                img = generate_noisy_background(width, height, \n",
    "                                                noise_lvl *random.random()) \n",
    "            else :\n",
    "                w = random.randint(200, 255)\n",
    "                img = Image.new('L', (width, height), color = (w, ))\n",
    "                \n",
    "            img = draw_text(img, text ,font)\n",
    "            img_name = f'{i}_pasp.png'\n",
    "            img.save(save_img_path + img_name)\n",
    "            labels.append(img_name + ' : '+ text)\n",
    "            \n",
    "            \n",
    "#print (labels [0])\n",
    "            \n",
    "with open(save_label_path + 'labels.txt', 'w') as f:\n",
    "    for element in labels:\n",
    "        f.write(element)\n",
    "        f.write('\\n')"
   ]
  },
  {
   "cell_type": "code",
   "execution_count": 6,
   "id": "7f26ad85",
   "metadata": {},
   "outputs": [],
   "source": [
    "labels = [] \n",
    "i = 0\n",
    "filler = ' '*max_i\n",
    "noise_lvl = 0.8\n",
    "\n",
    "\n",
    "with open(raw_data_path+source_file, 'r', encoding=\"utf-8\") as f:\n",
    "    while i < img_amount :\n",
    "        line = f.read(max_i)\n",
    "        # Возьмем целые слова из прочитанной строки\n",
    "        first_space = line.find(' ')\n",
    "        last_space = line.rfind(' ')\n",
    "        line = line[first_space:last_space]\n",
    "        \n",
    "        # Проверка на отсутствие сторонних символов\n",
    "        if is_applicable(line):\n",
    "            i+=1\n",
    "            line = (line + filler)[0:max_i]\n",
    "            w = random.randint(200, 255)\n",
    "            b = random.randint(0, 100)\n",
    "            blur = 2.0*random.random()\n",
    "            font_s = font_size + 2 - random.randint(0, 4)\n",
    "            font1 = ImageFont.truetype('raw_data/fonts/Roboto-Regular.ttf', font_s)\n",
    "            \n",
    "            #line = line.upper()\n",
    "            if noisy_back:\n",
    "                img = generate_noisy_background(width, height, \n",
    "                                                noise_lvl *random.random()) \n",
    "            else :\n",
    "                img = Image.new('L', (width, height), color = (w, ))\n",
    "                \n",
    "            drawing = ImageDraw.Draw(img)\n",
    "            drawing.text((5, 5), line, font=font1, fill=(b,))\n",
    "            \n",
    "            img = img.filter(ImageFilter.BoxBlur(blur))\n",
    "            img_name = f'{i}_pasp.png'\n",
    "            img.save(save_img_path + img_name)\n",
    "            labels.append(img_name + ' : '+ line)\n",
    "            \n",
    "#print (labels [0])\n",
    "            \n",
    "with open(save_label_path + 'labels.txt', 'w') as f:\n",
    "    for element in labels:\n",
    "        f.write(element)\n",
    "        f.write('\\n')"
   ]
  },
  {
   "cell_type": "code",
   "execution_count": 22,
   "id": "2df17f0c",
   "metadata": {},
   "outputs": [
    {
     "data": {
      "image/png": "[encoded data removed]",
      "text/plain": [
       "<PIL.Image.Image image mode=L size=360x32>"
      ]
     },
     "execution_count": 22,
     "metadata": {},
     "output_type": "execute_result"
    }
   ],
   "source": [
    "w = random.randint(230, 255)\n",
    "b = random.randint(0, 100)\n",
    "font_s = font_size + 2 - random.randint(0, 4)\n",
    "font1 = ImageFont.truetype('raw_data/fonts/Roboto-Regular.ttf', font_s)\n",
    "line = 'аррпроппрhhhhhhhhhhhhhh'\n",
    "# созадим картинку: символы в строке в один ряд\n",
    "img = Image.new('L', (width, height), color = (w, ))\n",
    "#img = img.filter(gaussian_filter)\n",
    "drawing = ImageDraw.Draw(img)\n",
    "drawing.text((5, 5), line, font=font1, fill=(0,))\n",
    "img = img.filter(ImageFilter.BoxBlur(1))\n",
    "#type(img)\n",
    "img"
   ]
  },
  {
   "cell_type": "code",
   "execution_count": 41,
   "id": "003a67c0",
   "metadata": {
    "scrolled": true
   },
   "outputs": [
    {
     "data": {
      "image/png": "[encoded data removed]",
      "text/plain": [
       "<Figure size 640x480 with 1 Axes>"
      ]
     },
     "metadata": {},
     "output_type": "display_data"
    }
   ],
   "source": [
    "w = random.randint(230, 255)\n",
    "\n",
    "\n",
    "img = Image.new('L', (width, height), color = (w, ))\n",
    "im = img\n",
    "for i in range( round(im.size[0]*im.size[1]/10) ):\n",
    "    im.putpixel(\n",
    "    (random.randint(0, im.size[0]-1), random.randint(0, im.size[1]-1)),\n",
    "    (random.randint(0,255))\n",
    "  )\n",
    "\n",
    "#im = im.convert('L')\n",
    "line = 'впавпркартпртптбьд'\n",
    "drawing = ImageDraw.Draw(im)\n",
    "#drawing.text((5, 5), line, font=font, fill=(0,))\n",
    "im = im.filter(ImageFilter.BoxBlur(5))\n",
    "#im = im.filter(gaussianFilter)\n",
    "im = draw_text(im,line,font)\n",
    "plt.imshow(im, cmap='gray')\n",
    "plt.show()\n"
   ]
  },
  {
   "cell_type": "code",
   "execution_count": 13,
   "id": "e8aa09bb",
   "metadata": {},
   "outputs": [
    {
     "name": "stdout",
     "output_type": "stream",
     "text": [
      "весть.ru: мид еще раз напоминать, что ро\n"
     ]
    }
   ],
   "source": [
    "with open(raw_data_path+source_file, 'r', encoding=\"utf-8\") as f:\n",
    "    line = f.read(40)\n",
    "    print( line)"
   ]
  },
  {
   "cell_type": "code",
   "execution_count": 15,
   "id": "a2c31a45",
   "metadata": {},
   "outputs": [
    {
     "data": {
      "text/plain": [
       "'dtfff4'"
      ]
     },
     "execution_count": 15,
     "metadata": {},
     "output_type": "execute_result"
    }
   ],
   "source": [
    "a = 'dt ff f4 '\n",
    "a.replace(' ','')"
   ]
  },
  {
   "cell_type": "code",
   "execution_count": 32,
   "id": "be3fa426",
   "metadata": {},
   "outputs": [
    {
     "data": {
      "text/plain": [
       "'2'"
      ]
     },
     "execution_count": 32,
     "metadata": {},
     "output_type": "execute_result"
    }
   ],
   "source": [
    "foo = ['1','2','3','4']\n",
    "random.choice(foo)"
   ]
  },
  {
   "cell_type": "code",
   "execution_count": null,
   "id": "82e1eda9",
   "metadata": {},
   "outputs": [],
   "source": [
    "def bgremove2(myimage):\n",
    "    # First Convert to Grayscale\n",
    "    #myimage_grey = cv2.cvtColor(myimage, cv2.COLOR_BGR2GRAY)\n",
    " \n",
    "    ret,baseline = cv2.threshold(myimage,127,255,cv2.THRESH_TRUNC)\n",
    " \n",
    "    ret,background = cv2.threshold(baseline,126,255,cv2.THRESH_BINARY)\n",
    " \n",
    "    ret,foreground = cv2.threshold(baseline,126,255,cv2.THRESH_BINARY_INV)\n",
    " \n",
    "    foreground = cv2.bitwise_and(myimage,myimage, mask=foreground)  # Update foreground with bitwise_and to extract real foreground\n",
    " \n",
    "    # Convert black and white back into 3 channel greyscale\n",
    "    #background = cv2.cvtColor(background, cv2.COLOR_GRAY2BGR)\n",
    " \n",
    "    # Combine the background and foreground to obtain our final image\n",
    "    finalimage = background+foreground\n",
    "    return finalimage  "
   ]
  }
 ],
 "metadata": {
  "kernelspec": {
   "display_name": "Python 3 (ipykernel)",
   "language": "python",
   "name": "python3"
  },
  "language_info": {
   "codemirror_mode": {
    "name": "ipython",
    "version": 3
   },
   "file_extension": ".py",
   "mimetype": "text/x-python",
   "name": "python",
   "nbconvert_exporter": "python",
   "pygments_lexer": "ipython3",
   "version": "3.9.16"
  }
 },
 "nbformat": 4,
 "nbformat_minor": 5
}
